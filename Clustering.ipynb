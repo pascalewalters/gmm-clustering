{
 "cells": [
  {
   "cell_type": "markdown",
   "metadata": {},
   "source": [
    "# Clustering Online Retail Data with Gaussian Mixture Model"
   ]
  },
  {
   "cell_type": "markdown",
   "metadata": {},
   "source": [
    "### Import libraries"
   ]
  },
  {
   "cell_type": "code",
   "execution_count": 2,
   "metadata": {},
   "outputs": [],
   "source": [
    "using GaussianMixtures\n",
    "using XLSX\n",
    "using DataFrames\n",
    "using Dates\n",
    "using Statistics\n",
    "using Clustering\n",
    "using PyPlot"
   ]
  },
  {
   "cell_type": "markdown",
   "metadata": {},
   "source": [
    "### Import data"
   ]
  },
  {
   "cell_type": "code",
   "execution_count": 3,
   "metadata": {},
   "outputs": [
    {
     "data": {
      "text/html": [
       "<table class=\"data-frame\"><thead><tr><th></th><th>InvoiceNo</th><th>StockCode</th><th>Description</th><th>Quantity</th><th>InvoiceDate</th></tr><tr><th></th><th>Any</th><th>Any</th><th>Any</th><th>Any</th><th>Any</th></tr></thead><tbody><p>541,909 rows × 8 columns (omitted printing of 3 columns)</p><tr><th>1</th><td>536365</td><td>85123A</td><td>WHITE HANGING HEART T-LIGHT HOLDER</td><td>6</td><td>2010-12-01T08:26:00</td></tr><tr><th>2</th><td>536365</td><td>71053</td><td>WHITE METAL LANTERN</td><td>6</td><td>2010-12-01T08:26:00</td></tr><tr><th>3</th><td>536365</td><td>84406B</td><td>CREAM CUPID HEARTS COAT HANGER</td><td>8</td><td>2010-12-01T08:26:00</td></tr><tr><th>4</th><td>536365</td><td>84029G</td><td>KNITTED UNION FLAG HOT WATER BOTTLE</td><td>6</td><td>2010-12-01T08:26:00</td></tr><tr><th>5</th><td>536365</td><td>84029E</td><td>RED WOOLLY HOTTIE WHITE HEART.</td><td>6</td><td>2010-12-01T08:26:00</td></tr><tr><th>6</th><td>536365</td><td>22752</td><td>SET 7 BABUSHKA NESTING BOXES</td><td>2</td><td>2010-12-01T08:26:00</td></tr><tr><th>7</th><td>536365</td><td>21730</td><td>GLASS STAR FROSTED T-LIGHT HOLDER</td><td>6</td><td>2010-12-01T08:26:00</td></tr><tr><th>8</th><td>536366</td><td>22633</td><td>HAND WARMER UNION JACK</td><td>6</td><td>2010-12-01T08:28:00</td></tr><tr><th>9</th><td>536366</td><td>22632</td><td>HAND WARMER RED POLKA DOT</td><td>6</td><td>2010-12-01T08:28:00</td></tr><tr><th>10</th><td>536367</td><td>84879</td><td>ASSORTED COLOUR BIRD ORNAMENT</td><td>32</td><td>2010-12-01T08:34:00</td></tr><tr><th>11</th><td>536367</td><td>22745</td><td>POPPY'S PLAYHOUSE BEDROOM </td><td>6</td><td>2010-12-01T08:34:00</td></tr><tr><th>12</th><td>536367</td><td>22748</td><td>POPPY'S PLAYHOUSE KITCHEN</td><td>6</td><td>2010-12-01T08:34:00</td></tr><tr><th>13</th><td>536367</td><td>22749</td><td>FELTCRAFT PRINCESS CHARLOTTE DOLL</td><td>8</td><td>2010-12-01T08:34:00</td></tr><tr><th>14</th><td>536367</td><td>22310</td><td>IVORY KNITTED MUG COSY </td><td>6</td><td>2010-12-01T08:34:00</td></tr><tr><th>15</th><td>536367</td><td>84969</td><td>BOX OF 6 ASSORTED COLOUR TEASPOONS</td><td>6</td><td>2010-12-01T08:34:00</td></tr><tr><th>16</th><td>536367</td><td>22623</td><td>BOX OF VINTAGE JIGSAW BLOCKS </td><td>3</td><td>2010-12-01T08:34:00</td></tr><tr><th>17</th><td>536367</td><td>22622</td><td>BOX OF VINTAGE ALPHABET BLOCKS</td><td>2</td><td>2010-12-01T08:34:00</td></tr><tr><th>18</th><td>536367</td><td>21754</td><td>HOME BUILDING BLOCK WORD</td><td>3</td><td>2010-12-01T08:34:00</td></tr><tr><th>19</th><td>536367</td><td>21755</td><td>LOVE BUILDING BLOCK WORD</td><td>3</td><td>2010-12-01T08:34:00</td></tr><tr><th>20</th><td>536367</td><td>21777</td><td>RECIPE BOX WITH METAL HEART</td><td>4</td><td>2010-12-01T08:34:00</td></tr><tr><th>21</th><td>536367</td><td>48187</td><td>DOORMAT NEW ENGLAND</td><td>4</td><td>2010-12-01T08:34:00</td></tr><tr><th>22</th><td>536368</td><td>22960</td><td>JAM MAKING SET WITH JARS</td><td>6</td><td>2010-12-01T08:34:00</td></tr><tr><th>23</th><td>536368</td><td>22913</td><td>RED COAT RACK PARIS FASHION</td><td>3</td><td>2010-12-01T08:34:00</td></tr><tr><th>24</th><td>536368</td><td>22912</td><td>YELLOW COAT RACK PARIS FASHION</td><td>3</td><td>2010-12-01T08:34:00</td></tr><tr><th>25</th><td>536368</td><td>22914</td><td>BLUE COAT RACK PARIS FASHION</td><td>3</td><td>2010-12-01T08:34:00</td></tr><tr><th>26</th><td>536369</td><td>21756</td><td>BATH BUILDING BLOCK WORD</td><td>3</td><td>2010-12-01T08:35:00</td></tr><tr><th>27</th><td>536370</td><td>22728</td><td>ALARM CLOCK BAKELIKE PINK</td><td>24</td><td>2010-12-01T08:45:00</td></tr><tr><th>28</th><td>536370</td><td>22727</td><td>ALARM CLOCK BAKELIKE RED </td><td>24</td><td>2010-12-01T08:45:00</td></tr><tr><th>29</th><td>536370</td><td>22726</td><td>ALARM CLOCK BAKELIKE GREEN</td><td>12</td><td>2010-12-01T08:45:00</td></tr><tr><th>30</th><td>536370</td><td>21724</td><td>PANDA AND BUNNIES STICKER SHEET</td><td>12</td><td>2010-12-01T08:45:00</td></tr><tr><th>&vellip;</th><td>&vellip;</td><td>&vellip;</td><td>&vellip;</td><td>&vellip;</td><td>&vellip;</td></tr></tbody></table>"
      ],
      "text/latex": [
       "\\begin{tabular}{r|cccccc}\n",
       "\t& InvoiceNo & StockCode & Description & Quantity & InvoiceDate & \\\\\n",
       "\t\\hline\n",
       "\t& Any & Any & Any & Any & Any & \\\\\n",
       "\t\\hline\n",
       "\t1 & 536365 & 85123A & WHITE HANGING HEART T-LIGHT HOLDER & 6 & 2010-12-01T08:26:00 & $\\dots$ \\\\\n",
       "\t2 & 536365 & 71053 & WHITE METAL LANTERN & 6 & 2010-12-01T08:26:00 & $\\dots$ \\\\\n",
       "\t3 & 536365 & 84406B & CREAM CUPID HEARTS COAT HANGER & 8 & 2010-12-01T08:26:00 & $\\dots$ \\\\\n",
       "\t4 & 536365 & 84029G & KNITTED UNION FLAG HOT WATER BOTTLE & 6 & 2010-12-01T08:26:00 & $\\dots$ \\\\\n",
       "\t5 & 536365 & 84029E & RED WOOLLY HOTTIE WHITE HEART. & 6 & 2010-12-01T08:26:00 & $\\dots$ \\\\\n",
       "\t6 & 536365 & 22752 & SET 7 BABUSHKA NESTING BOXES & 2 & 2010-12-01T08:26:00 & $\\dots$ \\\\\n",
       "\t7 & 536365 & 21730 & GLASS STAR FROSTED T-LIGHT HOLDER & 6 & 2010-12-01T08:26:00 & $\\dots$ \\\\\n",
       "\t8 & 536366 & 22633 & HAND WARMER UNION JACK & 6 & 2010-12-01T08:28:00 & $\\dots$ \\\\\n",
       "\t9 & 536366 & 22632 & HAND WARMER RED POLKA DOT & 6 & 2010-12-01T08:28:00 & $\\dots$ \\\\\n",
       "\t10 & 536367 & 84879 & ASSORTED COLOUR BIRD ORNAMENT & 32 & 2010-12-01T08:34:00 & $\\dots$ \\\\\n",
       "\t11 & 536367 & 22745 & POPPY'S PLAYHOUSE BEDROOM  & 6 & 2010-12-01T08:34:00 & $\\dots$ \\\\\n",
       "\t12 & 536367 & 22748 & POPPY'S PLAYHOUSE KITCHEN & 6 & 2010-12-01T08:34:00 & $\\dots$ \\\\\n",
       "\t13 & 536367 & 22749 & FELTCRAFT PRINCESS CHARLOTTE DOLL & 8 & 2010-12-01T08:34:00 & $\\dots$ \\\\\n",
       "\t14 & 536367 & 22310 & IVORY KNITTED MUG COSY  & 6 & 2010-12-01T08:34:00 & $\\dots$ \\\\\n",
       "\t15 & 536367 & 84969 & BOX OF 6 ASSORTED COLOUR TEASPOONS & 6 & 2010-12-01T08:34:00 & $\\dots$ \\\\\n",
       "\t16 & 536367 & 22623 & BOX OF VINTAGE JIGSAW BLOCKS  & 3 & 2010-12-01T08:34:00 & $\\dots$ \\\\\n",
       "\t17 & 536367 & 22622 & BOX OF VINTAGE ALPHABET BLOCKS & 2 & 2010-12-01T08:34:00 & $\\dots$ \\\\\n",
       "\t18 & 536367 & 21754 & HOME BUILDING BLOCK WORD & 3 & 2010-12-01T08:34:00 & $\\dots$ \\\\\n",
       "\t19 & 536367 & 21755 & LOVE BUILDING BLOCK WORD & 3 & 2010-12-01T08:34:00 & $\\dots$ \\\\\n",
       "\t20 & 536367 & 21777 & RECIPE BOX WITH METAL HEART & 4 & 2010-12-01T08:34:00 & $\\dots$ \\\\\n",
       "\t21 & 536367 & 48187 & DOORMAT NEW ENGLAND & 4 & 2010-12-01T08:34:00 & $\\dots$ \\\\\n",
       "\t22 & 536368 & 22960 & JAM MAKING SET WITH JARS & 6 & 2010-12-01T08:34:00 & $\\dots$ \\\\\n",
       "\t23 & 536368 & 22913 & RED COAT RACK PARIS FASHION & 3 & 2010-12-01T08:34:00 & $\\dots$ \\\\\n",
       "\t24 & 536368 & 22912 & YELLOW COAT RACK PARIS FASHION & 3 & 2010-12-01T08:34:00 & $\\dots$ \\\\\n",
       "\t25 & 536368 & 22914 & BLUE COAT RACK PARIS FASHION & 3 & 2010-12-01T08:34:00 & $\\dots$ \\\\\n",
       "\t26 & 536369 & 21756 & BATH BUILDING BLOCK WORD & 3 & 2010-12-01T08:35:00 & $\\dots$ \\\\\n",
       "\t27 & 536370 & 22728 & ALARM CLOCK BAKELIKE PINK & 24 & 2010-12-01T08:45:00 & $\\dots$ \\\\\n",
       "\t28 & 536370 & 22727 & ALARM CLOCK BAKELIKE RED  & 24 & 2010-12-01T08:45:00 & $\\dots$ \\\\\n",
       "\t29 & 536370 & 22726 & ALARM CLOCK BAKELIKE GREEN & 12 & 2010-12-01T08:45:00 & $\\dots$ \\\\\n",
       "\t30 & 536370 & 21724 & PANDA AND BUNNIES STICKER SHEET & 12 & 2010-12-01T08:45:00 & $\\dots$ \\\\\n",
       "\t$\\dots$ & $\\dots$ & $\\dots$ & $\\dots$ & $\\dots$ & $\\dots$ &  \\\\\n",
       "\\end{tabular}\n"
      ],
      "text/plain": [
       "\u001b[1m541909×8 DataFrame\u001b[0m\n",
       "\u001b[1m    Row \u001b[0m│\u001b[1m InvoiceNo \u001b[0m\u001b[1m StockCode \u001b[0m\u001b[1m Description                       \u001b[0m\u001b[1m Quantity \u001b[0m\u001b[1m I\u001b[0m ⋯\n",
       "\u001b[1m        \u001b[0m│\u001b[90m Any       \u001b[0m\u001b[90m Any       \u001b[0m\u001b[90m Any                               \u001b[0m\u001b[90m Any      \u001b[0m\u001b[90m A\u001b[0m ⋯\n",
       "────────┼───────────────────────────────────────────────────────────────────────\n",
       "      1 │ 536365     85123A     WHITE HANGING HEART T-LIGHT HOLD…  6         2 ⋯\n",
       "      2 │ 536365     71053      WHITE METAL LANTERN                6         2\n",
       "      3 │ 536365     84406B     CREAM CUPID HEARTS COAT HANGER     8         2\n",
       "      4 │ 536365     84029G     KNITTED UNION FLAG HOT WATER BOT…  6         2\n",
       "      5 │ 536365     84029E     RED WOOLLY HOTTIE WHITE HEART.     6         2 ⋯\n",
       "      6 │ 536365     22752      SET 7 BABUSHKA NESTING BOXES       2         2\n",
       "      7 │ 536365     21730      GLASS STAR FROSTED T-LIGHT HOLDER  6         2\n",
       "      8 │ 536366     22633      HAND WARMER UNION JACK             6         2\n",
       "      9 │ 536366     22632      HAND WARMER RED POLKA DOT          6         2 ⋯\n",
       "     10 │ 536367     84879      ASSORTED COLOUR BIRD ORNAMENT      32        2\n",
       "     11 │ 536367     22745      POPPY'S PLAYHOUSE BEDROOM          6         2\n",
       "   ⋮    │     ⋮          ⋮                      ⋮                     ⋮        ⋱\n",
       " 541900 │ 581587     22726      ALARM CLOCK BAKELIKE GREEN         4         2\n",
       " 541901 │ 581587     22730      ALARM CLOCK BAKELIKE IVORY         4         2 ⋯\n",
       " 541902 │ 581587     22367      CHILDRENS APRON SPACEBOY DESIGN    8         2\n",
       " 541903 │ 581587     22629      SPACEBOY LUNCH BOX                 12        2\n",
       " 541904 │ 581587     23256      CHILDRENS CUTLERY SPACEBOY         4         2\n",
       " 541905 │ 581587     22613      PACK OF 20 SPACEBOY NAPKINS        12        2 ⋯\n",
       " 541906 │ 581587     22899      CHILDREN'S APRON DOLLY GIRL        6         2\n",
       " 541907 │ 581587     23254      CHILDRENS CUTLERY DOLLY GIRL       4         2\n",
       " 541908 │ 581587     23255      CHILDRENS CUTLERY CIRCUS PARADE    4         2\n",
       " 541909 │ 581587     22138      BAKING SET 9 PIECE RETROSPOT       3         2 ⋯\n",
       "\u001b[36m                                               4 columns and 541888 rows omitted\u001b[0m"
      ]
     },
     "execution_count": 3,
     "metadata": {},
     "output_type": "execute_result"
    }
   ],
   "source": [
    "xf = XLSX.readxlsx(\"Online Retail.xlsx\")\n",
    "sh = xf[\"Online Retail\"] # Read sheet\n",
    "data = sh[:]\n",
    "df = DataFrame(XLSX.readtable(\"Online Retail.xlsx\", \"Online Retail\")...) # Convert to DataFrame"
   ]
  },
  {
   "cell_type": "code",
   "execution_count": 4,
   "metadata": {},
   "outputs": [
    {
     "data": {
      "text/plain": [
       "(541909, 8)"
      ]
     },
     "execution_count": 4,
     "metadata": {},
     "output_type": "execute_result"
    }
   ],
   "source": [
    "size(df)"
   ]
  },
  {
   "cell_type": "code",
   "execution_count": 5,
   "metadata": {},
   "outputs": [
    {
     "data": {
      "text/html": [
       "<table class=\"data-frame\"><thead><tr><th></th><th>variable</th><th>mean</th><th>min</th><th>median</th><th>max</th><th>nmissing</th></tr><tr><th></th><th>Symbol</th><th>Union…</th><th>Any</th><th>Union…</th><th>Any</th><th>Int64</th></tr></thead><tbody><p>8 rows × 7 columns (omitted printing of 1 columns)</p><tr><th>1</th><td>InvoiceNo</td><td></td><td></td><td></td><td></td><td>0</td></tr><tr><th>2</th><td>StockCode</td><td></td><td></td><td></td><td></td><td>0</td></tr><tr><th>3</th><td>Description</td><td></td><td></td><td></td><td></td><td>1454</td></tr><tr><th>4</th><td>Quantity</td><td>9.55225</td><td>-80995</td><td>3.0</td><td>80995</td><td>0</td></tr><tr><th>5</th><td>InvoiceDate</td><td></td><td>2010-12-01T08:26:00</td><td></td><td>2011-12-09T12:50:00</td><td>0</td></tr><tr><th>6</th><td>UnitPrice</td><td>4.61111</td><td>-11062.1</td><td>2.08</td><td>38970.0</td><td>0</td></tr><tr><th>7</th><td>CustomerID</td><td>15287.7</td><td>12346</td><td>15152.0</td><td>18287</td><td>135080</td></tr><tr><th>8</th><td>Country</td><td></td><td>Australia</td><td></td><td>Unspecified</td><td>0</td></tr></tbody></table>"
      ],
      "text/latex": [
       "\\begin{tabular}{r|ccccccc}\n",
       "\t& variable & mean & min & median & max & nmissing & \\\\\n",
       "\t\\hline\n",
       "\t& Symbol & Union… & Any & Union… & Any & Int64 & \\\\\n",
       "\t\\hline\n",
       "\t1 & InvoiceNo &  &  &  &  & 0 & $\\dots$ \\\\\n",
       "\t2 & StockCode &  &  &  &  & 0 & $\\dots$ \\\\\n",
       "\t3 & Description &  &  &  &  & 1454 & $\\dots$ \\\\\n",
       "\t4 & Quantity & 9.55225 & -80995 & 3.0 & 80995 & 0 & $\\dots$ \\\\\n",
       "\t5 & InvoiceDate &  & 2010-12-01T08:26:00 &  & 2011-12-09T12:50:00 & 0 & $\\dots$ \\\\\n",
       "\t6 & UnitPrice & 4.61111 & -11062.1 & 2.08 & 38970.0 & 0 & $\\dots$ \\\\\n",
       "\t7 & CustomerID & 15287.7 & 12346 & 15152.0 & 18287 & 135080 & $\\dots$ \\\\\n",
       "\t8 & Country &  & Australia &  & Unspecified & 0 & $\\dots$ \\\\\n",
       "\\end{tabular}\n"
      ],
      "text/plain": [
       "\u001b[1m8×7 DataFrame\u001b[0m\n",
       "\u001b[1m Row \u001b[0m│\u001b[1m variable    \u001b[0m\u001b[1m mean    \u001b[0m\u001b[1m min                 \u001b[0m\u001b[1m median  \u001b[0m\u001b[1m max                \u001b[0m ⋯\n",
       "\u001b[1m     \u001b[0m│\u001b[90m Symbol      \u001b[0m\u001b[90m Union…  \u001b[0m\u001b[90m Any                 \u001b[0m\u001b[90m Union…  \u001b[0m\u001b[90m Any                \u001b[0m ⋯\n",
       "─────┼──────────────────────────────────────────────────────────────────────────\n",
       "   1 │ InvoiceNo   \u001b[90m         \u001b[0m\u001b[90m                     \u001b[0m\u001b[90m         \u001b[0m\u001b[90m                    \u001b[0m ⋯\n",
       "   2 │ StockCode   \u001b[90m         \u001b[0m\u001b[90m                     \u001b[0m\u001b[90m         \u001b[0m\u001b[90m\u001b[0m\n",
       "   3 │ Description \u001b[90m         \u001b[0m\u001b[90m                     \u001b[0m\u001b[90m         \u001b[0m\u001b[90m\u001b[0m\n",
       "   4 │ Quantity     9.55225  -80995               3.0      80995\n",
       "   5 │ InvoiceDate \u001b[90m         \u001b[0m 2010-12-01T08:26:00 \u001b[90m         \u001b[0m 2011-12-09T12:50:00 ⋯\n",
       "   6 │ UnitPrice    4.61111  -11062.1             2.08     38970.0\n",
       "   7 │ CustomerID   15287.7  12346                15152.0  18287\n",
       "   8 │ Country     \u001b[90m         \u001b[0m Australia           \u001b[90m         \u001b[0m Unspecified\n",
       "\u001b[36m                                                               2 columns omitted\u001b[0m"
      ]
     },
     "execution_count": 5,
     "metadata": {},
     "output_type": "execute_result"
    }
   ],
   "source": [
    "describe(df)"
   ]
  },
  {
   "cell_type": "code",
   "execution_count": 50,
   "metadata": {},
   "outputs": [],
   "source": [
    "# Remove invalid rows\n",
    "remove_missing_df = dropmissing!(df);"
   ]
  },
  {
   "cell_type": "code",
   "execution_count": 7,
   "metadata": {},
   "outputs": [
    {
     "data": {
      "text/plain": [
       "(4372,)"
      ]
     },
     "execution_count": 7,
     "metadata": {},
     "output_type": "execute_result"
    }
   ],
   "source": [
    "# Unique CustomerIDs\n",
    "size(unique(df.CustomerID))"
   ]
  },
  {
   "cell_type": "code",
   "execution_count": 8,
   "metadata": {},
   "outputs": [
    {
     "data": {
      "text/html": [
       "<table class=\"data-frame\"><thead><tr><th></th><th>variable</th><th>mean</th><th>min</th><th>median</th><th>max</th></tr><tr><th></th><th>Symbol</th><th>Union…</th><th>Any</th><th>Union…</th><th>Any</th></tr></thead><tbody><p>8 rows × 7 columns (omitted printing of 2 columns)</p><tr><th>1</th><td>InvoiceNo</td><td></td><td></td><td></td><td></td></tr><tr><th>2</th><td>StockCode</td><td></td><td></td><td></td><td></td></tr><tr><th>3</th><td>Description</td><td></td><td> 4 PURPLE FLOCK DINNER CANDLES</td><td></td><td>ZINC WIRE SWEETHEART LETTER TRAY</td></tr><tr><th>4</th><td>Quantity</td><td>12.0613</td><td>-80995</td><td>5.0</td><td>80995</td></tr><tr><th>5</th><td>InvoiceDate</td><td></td><td>2010-12-01T08:26:00</td><td></td><td>2011-12-09T12:50:00</td></tr><tr><th>6</th><td>UnitPrice</td><td>3.46047</td><td>0.0</td><td>1.95</td><td>38970.0</td></tr><tr><th>7</th><td>CustomerID</td><td>15287.7</td><td>12346</td><td>15152.0</td><td>18287</td></tr><tr><th>8</th><td>Country</td><td></td><td>Australia</td><td></td><td>Unspecified</td></tr></tbody></table>"
      ],
      "text/latex": [
       "\\begin{tabular}{r|cccccc}\n",
       "\t& variable & mean & min & median & max & \\\\\n",
       "\t\\hline\n",
       "\t& Symbol & Union… & Any & Union… & Any & \\\\\n",
       "\t\\hline\n",
       "\t1 & InvoiceNo &  &  &  &  & $\\dots$ \\\\\n",
       "\t2 & StockCode &  &  &  &  & $\\dots$ \\\\\n",
       "\t3 & Description &  &  4 PURPLE FLOCK DINNER CANDLES &  & ZINC WIRE SWEETHEART LETTER TRAY & $\\dots$ \\\\\n",
       "\t4 & Quantity & 12.0613 & -80995 & 5.0 & 80995 & $\\dots$ \\\\\n",
       "\t5 & InvoiceDate &  & 2010-12-01T08:26:00 &  & 2011-12-09T12:50:00 & $\\dots$ \\\\\n",
       "\t6 & UnitPrice & 3.46047 & 0.0 & 1.95 & 38970.0 & $\\dots$ \\\\\n",
       "\t7 & CustomerID & 15287.7 & 12346 & 15152.0 & 18287 & $\\dots$ \\\\\n",
       "\t8 & Country &  & Australia &  & Unspecified & $\\dots$ \\\\\n",
       "\\end{tabular}\n"
      ],
      "text/plain": [
       "\u001b[1m8×7 DataFrame\u001b[0m\n",
       "\u001b[1m Row \u001b[0m│\u001b[1m variable    \u001b[0m\u001b[1m mean    \u001b[0m\u001b[1m min                            \u001b[0m\u001b[1m median  \u001b[0m\u001b[1m max     \u001b[0m ⋯\n",
       "\u001b[1m     \u001b[0m│\u001b[90m Symbol      \u001b[0m\u001b[90m Union…  \u001b[0m\u001b[90m Any                            \u001b[0m\u001b[90m Union…  \u001b[0m\u001b[90m Any     \u001b[0m ⋯\n",
       "─────┼──────────────────────────────────────────────────────────────────────────\n",
       "   1 │ InvoiceNo   \u001b[90m         \u001b[0m\u001b[90m                                \u001b[0m\u001b[90m         \u001b[0m\u001b[90m         \u001b[0m ⋯\n",
       "   2 │ StockCode   \u001b[90m         \u001b[0m\u001b[90m                                \u001b[0m\u001b[90m         \u001b[0m\u001b[90m\u001b[0m\n",
       "   3 │ Description \u001b[90m         \u001b[0m  4 PURPLE FLOCK DINNER CANDLES \u001b[90m         \u001b[0m ZINC WIR\n",
       "   4 │ Quantity     12.0613  -80995                          5.0      80995\n",
       "   5 │ InvoiceDate \u001b[90m         \u001b[0m 2010-12-01T08:26:00            \u001b[90m         \u001b[0m 2011-12- ⋯\n",
       "   6 │ UnitPrice    3.46047  0.0                             1.95     38970.0\n",
       "   7 │ CustomerID   15287.7  12346                           15152.0  18287\n",
       "   8 │ Country     \u001b[90m         \u001b[0m Australia                      \u001b[90m         \u001b[0m Unspecif\n",
       "\u001b[36m                                                               3 columns omitted\u001b[0m"
      ]
     },
     "execution_count": 8,
     "metadata": {},
     "output_type": "execute_result"
    }
   ],
   "source": [
    "describe(remove_missing_df)"
   ]
  },
  {
   "cell_type": "markdown",
   "metadata": {},
   "source": [
    "### Preprocess data"
   ]
  },
  {
   "cell_type": "code",
   "execution_count": 52,
   "metadata": {},
   "outputs": [],
   "source": [
    "# Convert date column to DateTime\n",
    "remove_missing_df.date = map((x) -> DateTime(x), remove_missing_df.InvoiceDate);"
   ]
  },
  {
   "cell_type": "markdown",
   "metadata": {},
   "source": [
    "We will group the data by CustomerID. The three features we will use for the clusters are recency, frequency, and monetary. Recency is the number of days since the most recent transaction in the dataset. The frequency is the number of transactions for that user. Monetary is the total amount of money that the customer has spent. These features allow for an understanding of the customer's spending habits at the store."
   ]
  },
  {
   "cell_type": "code",
   "execution_count": 78,
   "metadata": {},
   "outputs": [],
   "source": [
    "gdf = groupby(remove_missing_df, :CustomerID);\n",
    "max_date = DateTime(maximum(remove_missing_df.date));\n",
    "df4 = combine(gdf, :date => maximum => :max_date);\n",
    "df4.recency = map((x) -> (Dates.value(max_date - DateTime(x)) / (1000 * 60 * 60 * 24)), df4.max_date);\n",
    "df4.frequency = combine(gdf, nrow).nrow;\n",
    "df4.monetary = combine(gdf, \n",
    "    AsTable([:Quantity, :UnitPrice]) =>\n",
    "    x -> (sum(x.Quantity) * sum(x.UnitPrice))).Quantity_UnitPrice_function;"
   ]
  },
  {
   "cell_type": "code",
   "execution_count": 84,
   "metadata": {},
   "outputs": [
    {
     "data": {
      "text/html": [
       "<table class=\"data-frame\"><thead><tr><th></th><th>CustomerID</th><th>max_date</th><th>recency</th><th>frequency</th><th>monetary</th></tr><tr><th></th><th>Any</th><th>DateTime</th><th>Float64</th><th>Float64</th><th>Float64</th></tr></thead><tbody><p>4,372 rows × 5 columns</p><tr><th>1</th><td>17850</td><td>2011-02-10T14:38:00</td><td>301.016</td><td>311.6</td><td>2.0731e6</td></tr><tr><th>2</th><td>13047</td><td>2011-11-08T12:10:00</td><td>30.1191</td><td>195.6</td><td>1.0817e6</td></tr><tr><th>3</th><td>12583</td><td>2011-12-07T08:07:00</td><td>1.28785</td><td>250.6</td><td>3.96352e6</td></tr><tr><th>4</th><td>13748</td><td>2011-09-05T09:45:00</td><td>94.2198</td><td>27.5997</td><td>49124.0</td></tr><tr><th>5</th><td>15100</td><td>2011-01-13T17:09:00</td><td>328.911</td><td>5.59972</td><td>3810.55</td></tr><tr><th>6</th><td>15291</td><td>2011-11-14T11:02:00</td><td>24.1663</td><td>108.6</td><td>1.14313e6</td></tr><tr><th>7</th><td>14688</td><td>2011-12-02T12:26:00</td><td>6.10799</td><td>358.6</td><td>2.42681e6</td></tr><tr><th>8</th><td>17809</td><td>2011-11-23T13:00:00</td><td>15.0844</td><td>63.5997</td><td>1.80784e6</td></tr><tr><th>9</th><td>15311</td><td>2011-12-09T12:00:00</td><td>-0.873953</td><td>2490.6</td><td>2.3642e8</td></tr><tr><th>10</th><td>14527</td><td>2011-12-07T12:19:00</td><td>1.11285</td><td>1010.6</td><td>1.22871e7</td></tr><tr><th>11</th><td>16098</td><td>2011-09-13T09:59:00</td><td>86.2101</td><td>66.5997</td><td>1.81724e5</td></tr><tr><th>12</th><td>18074</td><td>2010-12-01T09:53:00</td><td>372.214</td><td>12.5997</td><td>11808.4</td></tr><tr><th>13</th><td>17420</td><td>2011-10-20T14:52:00</td><td>49.0066</td><td>29.5997</td><td>30856.5</td></tr><tr><th>14</th><td>16029</td><td>2011-11-01T10:27:00</td><td>37.1906</td><td>273.6</td><td>7.75125e8</td></tr><tr><th>15</th><td>16250</td><td>2011-03-23T15:07:00</td><td>259.996</td><td>23.5997</td><td>15416.9</td></tr><tr><th>16</th><td>12431</td><td>2011-11-04T11:55:00</td><td>34.1295</td><td>239.6</td><td>2.58694e6</td></tr><tr><th>17</th><td>17511</td><td>2011-12-07T10:12:00</td><td>1.20105</td><td>1075.6</td><td>1.64277e8</td></tr><tr><th>18</th><td>17548</td><td>2011-05-06T10:00:00</td><td>216.209</td><td>16.5997</td><td>-4431.29</td></tr><tr><th>19</th><td>13705</td><td>2011-12-02T12:32:00</td><td>6.10383</td><td>27.5997</td><td>77333.5</td></tr><tr><th>20</th><td>13747</td><td>2010-12-01T10:37:00</td><td>372.184</td><td>0.599722</td><td>79.5472</td></tr><tr><th>21</th><td>13408</td><td>2011-12-08T09:05:00</td><td>0.247575</td><td>500.6</td><td>2.60241e7</td></tr><tr><th>22</th><td>13767</td><td>2011-12-07T15:00:00</td><td>1.00105</td><td>398.6</td><td>1.08535e7</td></tr><tr><th>23</th><td>17924</td><td>2011-12-08T19:28:00</td><td>-0.185064</td><td>37.5997</td><td>1.49471e5</td></tr><tr><th>24</th><td>13448</td><td>2011-11-23T12:33:00</td><td>15.1031</td><td>198.6</td><td>1.04092e6</td></tr><tr><th>25</th><td>15862</td><td>2011-12-01T13:28:00</td><td>7.06494</td><td>146.6</td><td>2.35445e5</td></tr><tr><th>26</th><td>15513</td><td>2011-11-08T16:21:00</td><td>29.9448</td><td>313.6</td><td>7.17789e6</td></tr><tr><th>27</th><td>12791</td><td>2010-12-01T11:27:00</td><td>372.149</td><td>1.59972</td><td>1634.4</td></tr><tr><th>28</th><td>16218</td><td>2011-11-10T09:59:00</td><td>28.2101</td><td>89.5997</td><td>3.27397e5</td></tr><tr><th>29</th><td>14045</td><td>2011-08-22T15:27:00</td><td>107.982</td><td>5.59972</td><td>13588.9</td></tr><tr><th>30</th><td>14307</td><td>2011-09-12T09:38:00</td><td>87.2247</td><td>179.6</td><td>9.21078e5</td></tr><tr><th>&vellip;</th><td>&vellip;</td><td>&vellip;</td><td>&vellip;</td><td>&vellip;</td><td>&vellip;</td></tr></tbody></table>"
      ],
      "text/latex": [
       "\\begin{tabular}{r|ccccc}\n",
       "\t& CustomerID & max\\_date & recency & frequency & monetary\\\\\n",
       "\t\\hline\n",
       "\t& Any & DateTime & Float64 & Float64 & Float64\\\\\n",
       "\t\\hline\n",
       "\t1 & 17850 & 2011-02-10T14:38:00 & 301.016 & 311.6 & 2.0731e6 \\\\\n",
       "\t2 & 13047 & 2011-11-08T12:10:00 & 30.1191 & 195.6 & 1.0817e6 \\\\\n",
       "\t3 & 12583 & 2011-12-07T08:07:00 & 1.28785 & 250.6 & 3.96352e6 \\\\\n",
       "\t4 & 13748 & 2011-09-05T09:45:00 & 94.2198 & 27.5997 & 49124.0 \\\\\n",
       "\t5 & 15100 & 2011-01-13T17:09:00 & 328.911 & 5.59972 & 3810.55 \\\\\n",
       "\t6 & 15291 & 2011-11-14T11:02:00 & 24.1663 & 108.6 & 1.14313e6 \\\\\n",
       "\t7 & 14688 & 2011-12-02T12:26:00 & 6.10799 & 358.6 & 2.42681e6 \\\\\n",
       "\t8 & 17809 & 2011-11-23T13:00:00 & 15.0844 & 63.5997 & 1.80784e6 \\\\\n",
       "\t9 & 15311 & 2011-12-09T12:00:00 & -0.873953 & 2490.6 & 2.3642e8 \\\\\n",
       "\t10 & 14527 & 2011-12-07T12:19:00 & 1.11285 & 1010.6 & 1.22871e7 \\\\\n",
       "\t11 & 16098 & 2011-09-13T09:59:00 & 86.2101 & 66.5997 & 1.81724e5 \\\\\n",
       "\t12 & 18074 & 2010-12-01T09:53:00 & 372.214 & 12.5997 & 11808.4 \\\\\n",
       "\t13 & 17420 & 2011-10-20T14:52:00 & 49.0066 & 29.5997 & 30856.5 \\\\\n",
       "\t14 & 16029 & 2011-11-01T10:27:00 & 37.1906 & 273.6 & 7.75125e8 \\\\\n",
       "\t15 & 16250 & 2011-03-23T15:07:00 & 259.996 & 23.5997 & 15416.9 \\\\\n",
       "\t16 & 12431 & 2011-11-04T11:55:00 & 34.1295 & 239.6 & 2.58694e6 \\\\\n",
       "\t17 & 17511 & 2011-12-07T10:12:00 & 1.20105 & 1075.6 & 1.64277e8 \\\\\n",
       "\t18 & 17548 & 2011-05-06T10:00:00 & 216.209 & 16.5997 & -4431.29 \\\\\n",
       "\t19 & 13705 & 2011-12-02T12:32:00 & 6.10383 & 27.5997 & 77333.5 \\\\\n",
       "\t20 & 13747 & 2010-12-01T10:37:00 & 372.184 & 0.599722 & 79.5472 \\\\\n",
       "\t21 & 13408 & 2011-12-08T09:05:00 & 0.247575 & 500.6 & 2.60241e7 \\\\\n",
       "\t22 & 13767 & 2011-12-07T15:00:00 & 1.00105 & 398.6 & 1.08535e7 \\\\\n",
       "\t23 & 17924 & 2011-12-08T19:28:00 & -0.185064 & 37.5997 & 1.49471e5 \\\\\n",
       "\t24 & 13448 & 2011-11-23T12:33:00 & 15.1031 & 198.6 & 1.04092e6 \\\\\n",
       "\t25 & 15862 & 2011-12-01T13:28:00 & 7.06494 & 146.6 & 2.35445e5 \\\\\n",
       "\t26 & 15513 & 2011-11-08T16:21:00 & 29.9448 & 313.6 & 7.17789e6 \\\\\n",
       "\t27 & 12791 & 2010-12-01T11:27:00 & 372.149 & 1.59972 & 1634.4 \\\\\n",
       "\t28 & 16218 & 2011-11-10T09:59:00 & 28.2101 & 89.5997 & 3.27397e5 \\\\\n",
       "\t29 & 14045 & 2011-08-22T15:27:00 & 107.982 & 5.59972 & 13588.9 \\\\\n",
       "\t30 & 14307 & 2011-09-12T09:38:00 & 87.2247 & 179.6 & 9.21078e5 \\\\\n",
       "\t$\\dots$ & $\\dots$ & $\\dots$ & $\\dots$ & $\\dots$ & $\\dots$ \\\\\n",
       "\\end{tabular}\n"
      ],
      "text/plain": [
       "\u001b[1m4372×5 DataFrame\u001b[0m\n",
       "\u001b[1m  Row \u001b[0m│\u001b[1m CustomerID \u001b[0m\u001b[1m max_date            \u001b[0m\u001b[1m recency     \u001b[0m\u001b[1m frequency   \u001b[0m\u001b[1m monetary   \u001b[0m ⋯\n",
       "\u001b[1m      \u001b[0m│\u001b[90m Any        \u001b[0m\u001b[90m DateTime            \u001b[0m\u001b[90m Float64     \u001b[0m\u001b[90m Float64     \u001b[0m\u001b[90m Float64    \u001b[0m ⋯\n",
       "──────┼─────────────────────────────────────────────────────────────────────────\n",
       "    1 │ 17850       2011-02-10T14:38:00  301.016       311.6            2.0731 ⋯\n",
       "    2 │ 13047       2011-11-08T12:10:00   30.1191      195.6            1.0817\n",
       "    3 │ 12583       2011-12-07T08:07:00    1.28785     250.6            3.9635\n",
       "    4 │ 13748       2011-09-05T09:45:00   94.2198       27.5997     49124.0\n",
       "    5 │ 15100       2011-01-13T17:09:00  328.911         5.59972     3810.55   ⋯\n",
       "    6 │ 15291       2011-11-14T11:02:00   24.1663      108.6            1.1431\n",
       "    7 │ 14688       2011-12-02T12:26:00    6.10799     358.6            2.4268\n",
       "    8 │ 17809       2011-11-23T13:00:00   15.0844       63.5997         1.8078\n",
       "    9 │ 15311       2011-12-09T12:00:00   -0.873953   2490.6            2.3642 ⋯\n",
       "   10 │ 14527       2011-12-07T12:19:00    1.11285    1010.6            1.2287\n",
       "   11 │ 16098       2011-09-13T09:59:00   86.2101       66.5997         1.8172\n",
       "  ⋮   │     ⋮                ⋮                ⋮            ⋮             ⋮     ⋱\n",
       " 4363 │ 16000       2011-12-07T12:17:00    1.11424       8.59972   153862.0\n",
       " 4364 │ 15195       2011-12-07T12:20:00    1.11216       0.599722    3860.95   ⋯\n",
       " 4365 │ 14087       2011-12-07T12:41:00    1.09758      69.5997     27694.9\n",
       " 4366 │ 14204       2011-12-07T13:38:00    1.05799      43.5997      8677.19\n",
       " 4367 │ 15471       2011-12-07T14:12:00    1.03438      76.5997     40948.0\n",
       " 4368 │ 13436       2011-12-08T10:33:00    0.186464     11.5997      5316.91   ⋯\n",
       " 4369 │ 15520       2011-12-08T10:58:00    0.169103     17.5997      9746.51\n",
       " 4370 │ 13298       2011-12-08T13:11:00    0.0767419     1.59972      719.947\n",
       " 4371 │ 14569       2011-12-08T14:58:00    0.0024363    11.5997      3716.11\n",
       " 4372 │ 12713       2011-12-09T12:16:00   -0.885064     37.5997     48326.0    ⋯\n",
       "\u001b[36m                                                  1 column and 4351 rows omitted\u001b[0m"
      ]
     },
     "execution_count": 84,
     "metadata": {},
     "output_type": "execute_result"
    }
   ],
   "source": [
    "# Standardize the data\n",
    "df4.recency = df4.recency .- mean(df4.recency) ./ std(df4.recency);\n",
    "df4.frequency = df4.frequency .- mean(df4.frequency) ./ std(df4.frequency);\n",
    "df4.monetary = df4.monetary .- mean(df4.monetary) ./ std(df4.monetary);\n",
    "df4"
   ]
  },
  {
   "cell_type": "markdown",
   "metadata": {},
   "source": [
    "### Gaussian mixture model clustering"
   ]
  },
  {
   "cell_type": "markdown",
   "metadata": {},
   "source": [
    "We will determine the best number of clusters to describe the data using the elbow method. Perform Gaussian mixture model clustering with increasing number of clusters. The best number of clusters will be the elbow of the average log likelihood plot."
   ]
  },
  {
   "cell_type": "code",
   "execution_count": 87,
   "metadata": {},
   "outputs": [
    {
     "name": "stdout",
     "output_type": "stream",
     "text": [
      "K-means converged with 2 iterations (objv = 1.7422287752292518e18)\n"
     ]
    },
    {
     "name": "stderr",
     "output_type": "stream",
     "text": [
      "┌ Info: Initializing GMM, 2 Gaussians diag covariance 3 dimensions using 4372 data points\n",
      "└ @ GaussianMixtures /Users/pascalewalters/.julia/packages/GaussianMixtures/1pQcF/src/train.jl:79\n",
      "┌ Info: K-means with 2000 data points using 2 iterations\n",
      "│ 250.0 data points per parameter\n",
      "└ @ GaussianMixtures /Users/pascalewalters/.julia/packages/GaussianMixtures/1pQcF/src/train.jl:140\n",
      "┌ Warning: Too low occupancy count 1.0 for Gausian 2\n",
      "└ @ GaussianMixtures /Users/pascalewalters/.julia/packages/GaussianMixtures/1pQcF/src/train.jl:265\n",
      "┌ Warning: Too low occupancy count 1.0 for Gausian 2\n",
      "└ @ GaussianMixtures /Users/pascalewalters/.julia/packages/GaussianMixtures/1pQcF/src/train.jl:265\n",
      "┌ Warning: Too low occupancy count 1.0 for Gausian 2\n",
      "└ @ GaussianMixtures /Users/pascalewalters/.julia/packages/GaussianMixtures/1pQcF/src/train.jl:265\n",
      "┌ Warning: Too low occupancy count 1.0 for Gausian 2\n",
      "└ @ GaussianMixtures /Users/pascalewalters/.julia/packages/GaussianMixtures/1pQcF/src/train.jl:265\n",
      "┌ Warning: Too low occupancy count 1.0 for Gausian 2\n",
      "└ @ GaussianMixtures /Users/pascalewalters/.julia/packages/GaussianMixtures/1pQcF/src/train.jl:265\n",
      "┌ Warning: Too low occupancy count 1.0 for Gausian 2\n",
      "└ @ GaussianMixtures /Users/pascalewalters/.julia/packages/GaussianMixtures/1pQcF/src/train.jl:265\n",
      "┌ Warning: Too low occupancy count 1.0 for Gausian 2\n",
      "└ @ GaussianMixtures /Users/pascalewalters/.julia/packages/GaussianMixtures/1pQcF/src/train.jl:265\n",
      "┌ Warning: Too low occupancy count 1.0 for Gausian 2\n",
      "└ @ GaussianMixtures /Users/pascalewalters/.julia/packages/GaussianMixtures/1pQcF/src/train.jl:265\n",
      "┌ Warning: Too low occupancy count 1.0 for Gausian 2\n",
      "└ @ GaussianMixtures /Users/pascalewalters/.julia/packages/GaussianMixtures/1pQcF/src/train.jl:265\n"
     ]
    },
    {
     "name": "stdout",
     "output_type": "stream",
     "text": [
      "K-means converged with 2 iterations (objv = 5.5028543974595e17)\n"
     ]
    },
    {
     "name": "stderr",
     "output_type": "stream",
     "text": [
      "┌ Warning: Too low occupancy count 1.0 for Gausian 2\n",
      "└ @ GaussianMixtures /Users/pascalewalters/.julia/packages/GaussianMixtures/1pQcF/src/train.jl:265\n",
      "┌ Info: Initializing GMM, 3 Gaussians diag covariance 3 dimensions using 4372 data points\n",
      "└ @ GaussianMixtures /Users/pascalewalters/.julia/packages/GaussianMixtures/1pQcF/src/train.jl:79\n",
      "┌ Info: K-means with 3000 data points using 2 iterations\n",
      "│ 250.0 data points per parameter\n",
      "└ @ GaussianMixtures /Users/pascalewalters/.julia/packages/GaussianMixtures/1pQcF/src/train.jl:140\n",
      "┌ Warning: Too low occupancy count 1.0 for Gausian 2\n",
      "└ @ GaussianMixtures /Users/pascalewalters/.julia/packages/GaussianMixtures/1pQcF/src/train.jl:265\n",
      "┌ Warning: Too low occupancy count 1.0 for Gausian 2\n",
      "└ @ GaussianMixtures /Users/pascalewalters/.julia/packages/GaussianMixtures/1pQcF/src/train.jl:265\n",
      "┌ Warning: Too low occupancy count 1.0 for Gausian 2\n",
      "└ @ GaussianMixtures /Users/pascalewalters/.julia/packages/GaussianMixtures/1pQcF/src/train.jl:265\n",
      "┌ Warning: Too low occupancy count 1.0 for Gausian 2\n",
      "└ @ GaussianMixtures /Users/pascalewalters/.julia/packages/GaussianMixtures/1pQcF/src/train.jl:265\n",
      "┌ Warning: Too low occupancy count 1.0 for Gausian 2\n",
      "└ @ GaussianMixtures /Users/pascalewalters/.julia/packages/GaussianMixtures/1pQcF/src/train.jl:265\n",
      "┌ Warning: Too low occupancy count 1.0 for Gausian 2\n",
      "└ @ GaussianMixtures /Users/pascalewalters/.julia/packages/GaussianMixtures/1pQcF/src/train.jl:265\n",
      "┌ Warning: Too low occupancy count 1.0 for Gausian 2\n",
      "└ @ GaussianMixtures /Users/pascalewalters/.julia/packages/GaussianMixtures/1pQcF/src/train.jl:265\n"
     ]
    },
    {
     "name": "stdout",
     "output_type": "stream",
     "text": [
      "K-means converged with 3 iterations (objv = 3.791530144579525e17)\n"
     ]
    },
    {
     "name": "stderr",
     "output_type": "stream",
     "text": [
      "┌ Warning: Too low occupancy count 1.0 for Gausian 2\n",
      "└ @ GaussianMixtures /Users/pascalewalters/.julia/packages/GaussianMixtures/1pQcF/src/train.jl:265\n",
      "┌ Warning: Too low occupancy count 1.0 for Gausian 2\n",
      "└ @ GaussianMixtures /Users/pascalewalters/.julia/packages/GaussianMixtures/1pQcF/src/train.jl:265\n",
      "┌ Warning: Too low occupancy count 1.0 for Gausian 2\n",
      "└ @ GaussianMixtures /Users/pascalewalters/.julia/packages/GaussianMixtures/1pQcF/src/train.jl:265\n",
      "┌ Info: Initializing GMM, 4 Gaussians diag covariance 3 dimensions using 4372 data points\n",
      "└ @ GaussianMixtures /Users/pascalewalters/.julia/packages/GaussianMixtures/1pQcF/src/train.jl:79\n",
      "┌ Info: K-means with 4000 data points using 3 iterations\n",
      "│ 250.0 data points per parameter\n",
      "└ @ GaussianMixtures /Users/pascalewalters/.julia/packages/GaussianMixtures/1pQcF/src/train.jl:140\n",
      "┌ Warning: Too low occupancy count 1.0 for Gausian 2\n",
      "└ @ GaussianMixtures /Users/pascalewalters/.julia/packages/GaussianMixtures/1pQcF/src/train.jl:265\n",
      "┌ Warning: Too low occupancy count 1.0 for Gausian 3\n",
      "└ @ GaussianMixtures /Users/pascalewalters/.julia/packages/GaussianMixtures/1pQcF/src/train.jl:265\n",
      "┌ Warning: Too low occupancy count 1.0 for Gausian 2\n",
      "└ @ GaussianMixtures /Users/pascalewalters/.julia/packages/GaussianMixtures/1pQcF/src/train.jl:265\n",
      "┌ Warning: Too low occupancy count 1.0 for Gausian 3\n",
      "└ @ GaussianMixtures /Users/pascalewalters/.julia/packages/GaussianMixtures/1pQcF/src/train.jl:265\n",
      "┌ Warning: Too low occupancy count 1.0 for Gausian 2\n",
      "└ @ GaussianMixtures /Users/pascalewalters/.julia/packages/GaussianMixtures/1pQcF/src/train.jl:265\n",
      "┌ Warning: Too low occupancy count 1.0 for Gausian 3\n",
      "└ @ GaussianMixtures /Users/pascalewalters/.julia/packages/GaussianMixtures/1pQcF/src/train.jl:265\n",
      "┌ Warning: Too low occupancy count 1.0 for Gausian 2\n",
      "└ @ GaussianMixtures /Users/pascalewalters/.julia/packages/GaussianMixtures/1pQcF/src/train.jl:265\n",
      "┌ Warning: Too low occupancy count 1.0 for Gausian 3\n",
      "└ @ GaussianMixtures /Users/pascalewalters/.julia/packages/GaussianMixtures/1pQcF/src/train.jl:265\n",
      "┌ Warning: Too low occupancy count 1.0 for Gausian 2\n",
      "└ @ GaussianMixtures /Users/pascalewalters/.julia/packages/GaussianMixtures/1pQcF/src/train.jl:265\n"
     ]
    },
    {
     "name": "stdout",
     "output_type": "stream",
     "text": [
      "K-means converged with 3 iterations (objv = 1.3359668793157654e17)\n"
     ]
    },
    {
     "name": "stderr",
     "output_type": "stream",
     "text": [
      "┌ Warning: Too low occupancy count 1.0 for Gausian 3\n",
      "└ @ GaussianMixtures /Users/pascalewalters/.julia/packages/GaussianMixtures/1pQcF/src/train.jl:265\n",
      "┌ Warning: Too low occupancy count 1.0 for Gausian 2\n",
      "└ @ GaussianMixtures /Users/pascalewalters/.julia/packages/GaussianMixtures/1pQcF/src/train.jl:265\n",
      "┌ Warning: Too low occupancy count 1.0 for Gausian 3\n",
      "└ @ GaussianMixtures /Users/pascalewalters/.julia/packages/GaussianMixtures/1pQcF/src/train.jl:265\n",
      "┌ Warning: Too low occupancy count 1.0 for Gausian 2\n",
      "└ @ GaussianMixtures /Users/pascalewalters/.julia/packages/GaussianMixtures/1pQcF/src/train.jl:265\n",
      "┌ Warning: Too low occupancy count 1.0 for Gausian 3\n",
      "└ @ GaussianMixtures /Users/pascalewalters/.julia/packages/GaussianMixtures/1pQcF/src/train.jl:265\n",
      "┌ Warning: Too low occupancy count 1.0 for Gausian 2\n",
      "└ @ GaussianMixtures /Users/pascalewalters/.julia/packages/GaussianMixtures/1pQcF/src/train.jl:265\n",
      "┌ Warning: Too low occupancy count 1.0 for Gausian 3\n",
      "└ @ GaussianMixtures /Users/pascalewalters/.julia/packages/GaussianMixtures/1pQcF/src/train.jl:265\n",
      "┌ Warning: Too low occupancy count 1.0 for Gausian 2\n",
      "└ @ GaussianMixtures /Users/pascalewalters/.julia/packages/GaussianMixtures/1pQcF/src/train.jl:265\n",
      "┌ Warning: Too low occupancy count 1.0 for Gausian 3\n",
      "└ @ GaussianMixtures /Users/pascalewalters/.julia/packages/GaussianMixtures/1pQcF/src/train.jl:265\n",
      "┌ Warning: Too low occupancy count 1.0 for Gausian 2\n",
      "└ @ GaussianMixtures /Users/pascalewalters/.julia/packages/GaussianMixtures/1pQcF/src/train.jl:265\n",
      "┌ Warning: Too low occupancy count 1.0 for Gausian 3\n",
      "└ @ GaussianMixtures /Users/pascalewalters/.julia/packages/GaussianMixtures/1pQcF/src/train.jl:265\n",
      "┌ Info: Initializing GMM, 5 Gaussians diag covariance 3 dimensions using 4372 data points\n",
      "└ @ GaussianMixtures /Users/pascalewalters/.julia/packages/GaussianMixtures/1pQcF/src/train.jl:79\n",
      "┌ Info: K-means with 4372 data points using 3 iterations\n",
      "│ 218.6 data points per parameter\n",
      "└ @ GaussianMixtures /Users/pascalewalters/.julia/packages/GaussianMixtures/1pQcF/src/train.jl:140\n",
      "┌ Warning: Too low occupancy count 1.0 for Gausian 3\n",
      "└ @ GaussianMixtures /Users/pascalewalters/.julia/packages/GaussianMixtures/1pQcF/src/train.jl:265\n"
     ]
    },
    {
     "ename": "LoadError",
     "evalue": "PosDefException: matrix is not positive definite; Cholesky factorization failed.",
     "output_type": "error",
     "traceback": [
      "PosDefException: matrix is not positive definite; Cholesky factorization failed.",
      "",
      "Stacktrace:",
      "  [1] checkpositivedefinite",
      "    @ /Users/julia/buildbot/worker/package_macos64/build/usr/share/julia/stdlib/v1.6/LinearAlgebra/src/factorization.jl:18 [inlined]",
      "  [2] cholesky!(A::LinearAlgebra.Hermitian{Float64, Matrix{Float64}}, ::Val{false}; check::Bool)",
      "    @ LinearAlgebra /Users/julia/buildbot/worker/package_macos64/build/usr/share/julia/stdlib/v1.6/LinearAlgebra/src/cholesky.jl:253",
      "  [3] cholesky!(A::Matrix{Float64}, ::Val{false}; check::Bool)",
      "    @ LinearAlgebra /Users/julia/buildbot/worker/package_macos64/build/usr/share/julia/stdlib/v1.6/LinearAlgebra/src/cholesky.jl:285",
      "  [4] #cholesky#130",
      "    @ /Users/julia/buildbot/worker/package_macos64/build/usr/share/julia/stdlib/v1.6/LinearAlgebra/src/cholesky.jl:378 [inlined]",
      "  [5] cholesky (repeats 2 times)",
      "    @ /Users/julia/buildbot/worker/package_macos64/build/usr/share/julia/stdlib/v1.6/LinearAlgebra/src/cholesky.jl:378 [inlined]",
      "  [6] cholinv(Σ::Matrix{Float64})",
      "    @ GaussianMixtures ~/.julia/packages/GaussianMixtures/1pQcF/src/gmms.jl:32",
      "  [7] em!(gmm::GMM{Float64, Vector{LinearAlgebra.UpperTriangular{Float64, Matrix{Float64}}}}, x::Matrix{Float64}; nIter::Int64, varfloor::Float64, sparse::Int64, debug::Int64)",
      "    @ GaussianMixtures ~/.julia/packages/GaussianMixtures/1pQcF/src/train.jl:268",
      "  [8] GMMk(n::Int64, x::Matrix{Float64}; kind::Symbol, nInit::Int64, nIter::Int64, sparse::Int64)",
      "    @ GaussianMixtures ~/.julia/packages/GaussianMixtures/1pQcF/src/train.jl:143",
      "  [9] #GMM#7",
      "    @ ~/.julia/packages/GaussianMixtures/1pQcF/src/train.jl:37 [inlined]",
      " [10] top-level scope",
      "    @ ./In[87]:4",
      " [11] eval",
      "    @ ./boot.jl:360 [inlined]",
      " [12] include_string(mapexpr::typeof(REPL.softscope), mod::Module, code::String, filename::String)",
      "    @ Base ./loading.jl:1094"
     ]
    }
   ],
   "source": [
    "# Collect the \n",
    "lls = Float64[]\n",
    "for n in 1:6\n",
    "    gm = GMM(n, Array(df4[:, 3:5]), kind = :full);\n",
    "    append!(lls, avll(gm, Array(df4[:, 3:5])));\n",
    "end"
   ]
  },
  {
   "cell_type": "code",
   "execution_count": 88,
   "metadata": {},
   "outputs": [
    {
     "data": {
      "text/plain": [
       "4-element Vector{Float64}:\n",
       " -10.557428757345358\n",
       " -10.36826601214841\n",
       "  -8.52218286235137\n",
       "  -8.502906982890863"
      ]
     },
     "execution_count": 88,
     "metadata": {},
     "output_type": "execute_result"
    }
   ],
   "source": [
    "lls"
   ]
  },
  {
   "cell_type": "markdown",
   "metadata": {},
   "source": [
    "Using the elbow method, the best number of clusters is 4."
   ]
  },
  {
   "cell_type": "code",
   "execution_count": 93,
   "metadata": {},
   "outputs": [
    {
     "name": "stdout",
     "output_type": "stream",
     "text": [
      "K-means converged with 2 iterations (objv = 1.619628872528443e17)\n"
     ]
    },
    {
     "name": "stderr",
     "output_type": "stream",
     "text": [
      "┌ Info: Initializing GMM, 4 Gaussians diag covariance 3 dimensions using 4372 data points\n",
      "└ @ GaussianMixtures /Users/pascalewalters/.julia/packages/GaussianMixtures/1pQcF/src/train.jl:79\n",
      "┌ Info: K-means with 4000 data points using 2 iterations\n",
      "│ 250.0 data points per parameter\n",
      "└ @ GaussianMixtures /Users/pascalewalters/.julia/packages/GaussianMixtures/1pQcF/src/train.jl:140\n",
      "┌ Warning: Too low occupancy count 0.0 for Gausian 2\n",
      "└ @ GaussianMixtures /Users/pascalewalters/.julia/packages/GaussianMixtures/1pQcF/src/train.jl:265\n",
      "┌ Warning: 3 pathological elements normalized\n",
      "└ @ GaussianMixtures /Users/pascalewalters/.julia/packages/GaussianMixtures/1pQcF/src/train.jl:69\n",
      "┌ Warning: Too low occupancy count 0.0 for Gausian 2\n",
      "└ @ GaussianMixtures /Users/pascalewalters/.julia/packages/GaussianMixtures/1pQcF/src/train.jl:265\n",
      "┌ Warning: 3 pathological elements normalized\n",
      "└ @ GaussianMixtures /Users/pascalewalters/.julia/packages/GaussianMixtures/1pQcF/src/train.jl:69\n",
      "┌ Warning: Too low occupancy count 0.0 for Gausian 2\n",
      "└ @ GaussianMixtures /Users/pascalewalters/.julia/packages/GaussianMixtures/1pQcF/src/train.jl:265\n",
      "┌ Warning: 3 pathological elements normalized\n",
      "└ @ GaussianMixtures /Users/pascalewalters/.julia/packages/GaussianMixtures/1pQcF/src/train.jl:69\n",
      "┌ Warning: Too low occupancy count 0.0 for Gausian 2\n",
      "└ @ GaussianMixtures /Users/pascalewalters/.julia/packages/GaussianMixtures/1pQcF/src/train.jl:265\n",
      "┌ Warning: 3 pathological elements normalized\n",
      "└ @ GaussianMixtures /Users/pascalewalters/.julia/packages/GaussianMixtures/1pQcF/src/train.jl:69\n",
      "┌ Warning: Too low occupancy count 0.0 for Gausian 2\n",
      "└ @ GaussianMixtures /Users/pascalewalters/.julia/packages/GaussianMixtures/1pQcF/src/train.jl:265\n",
      "┌ Warning: 3 pathological elements normalized\n",
      "└ @ GaussianMixtures /Users/pascalewalters/.julia/packages/GaussianMixtures/1pQcF/src/train.jl:69\n",
      "┌ Warning: Too low occupancy count 0.0 for Gausian 2\n",
      "└ @ GaussianMixtures /Users/pascalewalters/.julia/packages/GaussianMixtures/1pQcF/src/train.jl:265\n",
      "┌ Warning: 3 pathological elements normalized\n",
      "└ @ GaussianMixtures /Users/pascalewalters/.julia/packages/GaussianMixtures/1pQcF/src/train.jl:69\n",
      "┌ Warning: Too low occupancy count 0.0 for Gausian 2\n",
      "└ @ GaussianMixtures /Users/pascalewalters/.julia/packages/GaussianMixtures/1pQcF/src/train.jl:265\n",
      "┌ Warning: 3 pathological elements normalized\n",
      "└ @ GaussianMixtures /Users/pascalewalters/.julia/packages/GaussianMixtures/1pQcF/src/train.jl:69\n",
      "┌ Warning: Too low occupancy count 0.0 for Gausian 2\n",
      "└ @ GaussianMixtures /Users/pascalewalters/.julia/packages/GaussianMixtures/1pQcF/src/train.jl:265\n",
      "┌ Warning: 3 pathological elements normalized\n",
      "└ @ GaussianMixtures /Users/pascalewalters/.julia/packages/GaussianMixtures/1pQcF/src/train.jl:69\n",
      "┌ Warning: Too low occupancy count 0.0 for Gausian 2\n",
      "└ @ GaussianMixtures /Users/pascalewalters/.julia/packages/GaussianMixtures/1pQcF/src/train.jl:265\n",
      "┌ Warning: 3 pathological elements normalized\n",
      "└ @ GaussianMixtures /Users/pascalewalters/.julia/packages/GaussianMixtures/1pQcF/src/train.jl:69\n",
      "┌ Warning: Too low occupancy count 0.0 for Gausian 2\n",
      "└ @ GaussianMixtures /Users/pascalewalters/.julia/packages/GaussianMixtures/1pQcF/src/train.jl:265\n",
      "┌ Warning: 3 pathological elements normalized\n",
      "└ @ GaussianMixtures /Users/pascalewalters/.julia/packages/GaussianMixtures/1pQcF/src/train.jl:69\n"
     ]
    }
   ],
   "source": [
    "# Perform GMM clustering with 4 clusters\n",
    "gm = GMM(4, Array(df4[:, 3:5]), kind = :full); "
   ]
  },
  {
   "cell_type": "code",
   "execution_count": 94,
   "metadata": {},
   "outputs": [],
   "source": [
    "# Assign samples to classes\n",
    "prob_pos = gmmposterior(gm, Array(df4[:, 3:5]))[1];\n",
    "ass = [argmax(prob_pos[i, :]) for i = 1:size(df4, 1)];"
   ]
  },
  {
   "cell_type": "code",
   "execution_count": 95,
   "metadata": {},
   "outputs": [
    {
     "data": {
      "text/plain": [
       "4×3 Matrix{Float64}:\n",
       " 109.856      37.9433  61852.1\n",
       "   0.0         0.0         0.0\n",
       "   7.11648  1076.38        1.26408e8\n",
       "  26.839     218.995       1.53808e6"
      ]
     },
     "execution_count": 95,
     "metadata": {},
     "output_type": "execute_result"
    }
   ],
   "source": [
    "# Get the means of the GMM clusters\n",
    "means(gm)"
   ]
  },
  {
   "cell_type": "code",
   "execution_count": 96,
   "metadata": {},
   "outputs": [
    {
     "name": "stdout",
     "output_type": "stream",
     "text": [
      "Class 1: 3313\n",
      "Class 2: 0\n",
      "Class 3: 80\n",
      "Class 4: 979\n"
     ]
    }
   ],
   "source": [
    "# Find how many data points are in each of the clusters\n",
    "ass = [argmax(prob_pos[i, :]) for i=1:size(df4, 1)];\n",
    "println(\"Class 1: \", sum(a == 1 for a in ass))\n",
    "println(\"Class 2: \", sum(a == 2 for a in ass))\n",
    "println(\"Class 3: \", sum(a == 3 for a in ass))\n",
    "println(\"Class 4: \", sum(a == 4 for a in ass))"
   ]
  },
  {
   "cell_type": "markdown",
   "metadata": {},
   "source": [
    "The four clusters represent four customer segments that have been set based on their frequency, recency, and monetary values. Four clusters were selected based on the elbow method. Looking at the cluster means, Class 3 has the highest recency, frequency, and monetary values. Class 1 has the lowest frequency, recency, and monetary values. Class 4 has intermediate values. Class 2 does not contain any data samples."
   ]
  }
 ],
 "metadata": {
  "kernelspec": {
   "display_name": "Julia 1.6.0",
   "language": "julia",
   "name": "julia-1.6"
  },
  "language_info": {
   "file_extension": ".jl",
   "mimetype": "application/julia",
   "name": "julia",
   "version": "1.6.0"
  }
 },
 "nbformat": 4,
 "nbformat_minor": 4
}
